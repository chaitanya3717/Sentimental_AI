{
  "cells": [
    {
      "cell_type": "markdown",
      "metadata": {
        "id": "uKOZJpSejuwQ"
      },
      "source": [
        "# SENTIMENTAL AI\n",
        "# SnT Summer Project, BCS-IITK\n",
        "## Assignment-2\n",
        "\n",
        "Reference- https://github.com/07Agarg/Natural-Language-Processing-In-Tensorflow-Course/blob/master/Week%204/NLP_Week4_Exercise_Shakespeare_Question.ipynb "
      ]
    },
    {
      "cell_type": "code",
      "execution_count": null,
      "metadata": {
        "id": "UbboSp2kgxU2"
      },
      "outputs": [],
      "source": [
        "from tensorflow.keras.preprocessing.sequence import pad_sequences\n",
        "from tensorflow.keras.layers import Embedding, LSTM, Dense, Dropout, Bidirectional\n",
        "from tensorflow.keras.preprocessing.text import Tokenizer\n",
        "from tensorflow.keras.models import Sequential\n",
        "from tensorflow.keras.optimizers import Adam\n",
        "from tensorflow.keras.regularizers import Regularizer\n",
        "import tensorflow.keras.utils as ku \n",
        "import numpy as np "
      ]
    },
    {
      "cell_type": "code",
      "execution_count": null,
      "metadata": {
        "colab": {
          "base_uri": "https://localhost:8080/"
        },
        "id": "bjKVL_nyg6EX",
        "outputId": "c98fdd9f-43c6-43d1-f28d-3103d1edec74"
      },
      "outputs": [
        {
          "output_type": "stream",
          "name": "stdout",
          "text": [
            "--2022-06-16 14:56:03--  https://storage.googleapis.com/laurencemoroney-blog.appspot.com/sonnets.txt\n",
            "Resolving storage.googleapis.com (storage.googleapis.com)... 172.253.63.128, 142.250.31.128, 142.251.111.128, ...\n",
            "Connecting to storage.googleapis.com (storage.googleapis.com)|172.253.63.128|:443... connected.\n",
            "HTTP request sent, awaiting response... 200 OK\n",
            "Length: 93578 (91K) [text/plain]\n",
            "Saving to: ‘/tmp/sonnets.txt’\n",
            "\n",
            "\r/tmp/sonnets.txt      0%[                    ]       0  --.-KB/s               \r/tmp/sonnets.txt    100%[===================>]  91.38K  --.-KB/s    in 0.001s  \n",
            "\n",
            "2022-06-16 14:56:03 (108 MB/s) - ‘/tmp/sonnets.txt’ saved [93578/93578]\n",
            "\n"
          ]
        }
      ],
      "source": [
        "tokenizer = Tokenizer()\n",
        "!wget --no-check-certificate \\\n",
        "    https://storage.googleapis.com/laurencemoroney-blog.appspot.com/sonnets.txt \\\n",
        "    -O /tmp/sonnets.txt\n",
        "data = open('/tmp/sonnets.txt').read()\n",
        "\n",
        "\n",
        "\n",
        "corpus =  data.lower().split(\"\\n\") #convert to lower case and then split the data on '\\n' to create a corpus of lines\n",
        "tokenizer.fit_on_texts(corpus) #fit the tokenizer on the corpus\n",
        "total_words = len(tokenizer.word_index) + 1\n",
        "\n",
        "\n",
        "\n",
        "# create input sequences using list of tokens\n",
        "input_sequences = []\n",
        "for line in corpus:\n",
        "\ttoken_list = tokenizer.texts_to_sequences([line])[0]\n",
        "\tfor i in range(1, len(token_list)):\n",
        "\t\tn_gram_sequence = token_list[:i+1]\n",
        "\t\tinput_sequences.append(n_gram_sequence)\n",
        "\n",
        "\n",
        "# pad sequences \n",
        "max_sequence_len =max([len(x) for x in input_sequences])\n",
        "input_sequences = np.array(pad_sequences(input_sequences, maxlen=max_sequence_len, padding='pre'))\n",
        "\n",
        "\n",
        "\n",
        "# create predictors and label\n",
        "predictors, label = input_sequences[:,:-1],input_sequences[:,-1]\n",
        "\n",
        "label = ku.to_categorical(label, num_classes=total_words)"
      ]
    },
    {
      "cell_type": "code",
      "execution_count": null,
      "metadata": {
        "colab": {
          "base_uri": "https://localhost:8080/"
        },
        "id": "6GnoE7fchEp6",
        "outputId": "14aacb20-93bd-4251-a24d-639aef6e1038"
      },
      "outputs": [
        {
          "output_type": "stream",
          "name": "stdout",
          "text": [
            "Model: \"sequential\"\n",
            "_________________________________________________________________\n",
            " Layer (type)                Output Shape              Param #   \n",
            "=================================================================\n",
            " embedding (Embedding)       (None, 10, 100)           321100    \n",
            "                                                                 \n",
            " bidirectional (Bidirectiona  (None, 10, 300)          301200    \n",
            " l)                                                              \n",
            "                                                                 \n",
            " dropout (Dropout)           (None, 10, 300)           0         \n",
            "                                                                 \n",
            " lstm_1 (LSTM)               (None, 100)               160400    \n",
            "                                                                 \n",
            " dense (Dense)               (None, 1605)              162105    \n",
            "                                                                 \n",
            " dense_1 (Dense)             (None, 3211)              5156866   \n",
            "                                                                 \n",
            "=================================================================\n",
            "Total params: 6,101,671\n",
            "Trainable params: 6,101,671\n",
            "Non-trainable params: 0\n",
            "_________________________________________________________________\n",
            "None\n"
          ]
        }
      ],
      "source": [
        "model = Sequential()\n",
        "model.add(Embedding(total_words, 100, input_length=max_sequence_len-1))  #(# Your Embedding Layer)\n",
        "model.add(Bidirectional(LSTM(150, return_sequences=True)))  #(# A Bidirectional LSTM Layer)\n",
        "model.add(Dropout(0.2))  #(# A dropout layer)\n",
        "model.add(LSTM(100))  #(# Another LSTM Layer)\n",
        "model.add(Dense(total_words/2, activation='relu'))  #(# A Dense Layer including regularizers)\n",
        "model.add(Dense(total_words, activation='softmax'))  #(# A Dense Layer)\n",
        "# Pick an optimizer\n",
        "model.compile(loss='categorical_crossentropy', optimizer='adam', metrics='accuracy')  #(# Pick a loss function and an optimizer)\n",
        "print(model.summary()) #print model summary"
      ]
    },
    {
      "cell_type": "code",
      "execution_count": null,
      "metadata": {
        "colab": {
          "base_uri": "https://localhost:8080/"
        },
        "id": "Se-rEkushRht",
        "outputId": "0fb1f2d4-1004-4479-ccfa-84c3d8264c9b"
      },
      "outputs": [
        {
          "output_type": "stream",
          "name": "stdout",
          "text": [
            "Epoch 1/100\n",
            "484/484 [==============================] - 75s 141ms/step - loss: 6.8108 - accuracy: 0.0233\n",
            "Epoch 2/100\n",
            "484/484 [==============================] - 67s 138ms/step - loss: 6.4132 - accuracy: 0.0337\n",
            "Epoch 3/100\n",
            "484/484 [==============================] - 67s 138ms/step - loss: 6.2101 - accuracy: 0.0373\n",
            "Epoch 4/100\n",
            "484/484 [==============================] - 67s 139ms/step - loss: 6.0039 - accuracy: 0.0453\n",
            "Epoch 5/100\n",
            "484/484 [==============================] - 67s 139ms/step - loss: 5.7432 - accuracy: 0.0528\n",
            "Epoch 6/100\n",
            "484/484 [==============================] - 66s 137ms/step - loss: 5.4829 - accuracy: 0.0675\n",
            "Epoch 7/100\n",
            "484/484 [==============================] - 66s 137ms/step - loss: 5.2201 - accuracy: 0.0789\n",
            "Epoch 8/100\n",
            "484/484 [==============================] - 67s 138ms/step - loss: 4.9703 - accuracy: 0.0902\n",
            "Epoch 9/100\n",
            "484/484 [==============================] - 67s 138ms/step - loss: 4.7131 - accuracy: 0.1066\n",
            "Epoch 10/100\n",
            "484/484 [==============================] - 67s 139ms/step - loss: 4.4389 - accuracy: 0.1316\n",
            "Epoch 11/100\n",
            "484/484 [==============================] - 67s 137ms/step - loss: 4.1341 - accuracy: 0.1550\n",
            "Epoch 12/100\n",
            "484/484 [==============================] - 65s 135ms/step - loss: 3.8054 - accuracy: 0.1891\n",
            "Epoch 13/100\n",
            "484/484 [==============================] - 65s 134ms/step - loss: 3.4657 - accuracy: 0.2401\n",
            "Epoch 14/100\n",
            "484/484 [==============================] - 65s 135ms/step - loss: 3.1361 - accuracy: 0.2929\n",
            "Epoch 15/100\n",
            "484/484 [==============================] - 67s 139ms/step - loss: 2.7975 - accuracy: 0.3509\n",
            "Epoch 16/100\n",
            "484/484 [==============================] - 67s 139ms/step - loss: 2.5034 - accuracy: 0.4087\n",
            "Epoch 17/100\n",
            "484/484 [==============================] - 67s 139ms/step - loss: 2.2523 - accuracy: 0.4575\n",
            "Epoch 18/100\n",
            "484/484 [==============================] - 66s 137ms/step - loss: 2.0079 - accuracy: 0.5146\n",
            "Epoch 19/100\n",
            "484/484 [==============================] - 68s 140ms/step - loss: 1.8098 - accuracy: 0.5626\n",
            "Epoch 20/100\n",
            "484/484 [==============================] - 67s 139ms/step - loss: 1.6418 - accuracy: 0.5957\n",
            "Epoch 21/100\n",
            "484/484 [==============================] - 67s 138ms/step - loss: 1.4909 - accuracy: 0.6350\n",
            "Epoch 22/100\n",
            "484/484 [==============================] - 67s 138ms/step - loss: 1.3665 - accuracy: 0.6558\n",
            "Epoch 23/100\n",
            "484/484 [==============================] - 68s 140ms/step - loss: 1.2601 - accuracy: 0.6865\n",
            "Epoch 24/100\n",
            "484/484 [==============================] - 68s 141ms/step - loss: 1.1773 - accuracy: 0.7072\n",
            "Epoch 25/100\n",
            "484/484 [==============================] - 67s 139ms/step - loss: 1.0857 - accuracy: 0.7278\n",
            "Epoch 26/100\n",
            "484/484 [==============================] - 68s 140ms/step - loss: 1.0082 - accuracy: 0.7482\n",
            "Epoch 27/100\n",
            "484/484 [==============================] - 67s 139ms/step - loss: 0.9511 - accuracy: 0.7624\n",
            "Epoch 28/100\n",
            "484/484 [==============================] - 67s 138ms/step - loss: 0.9058 - accuracy: 0.7711\n",
            "Epoch 29/100\n",
            "484/484 [==============================] - 67s 139ms/step - loss: 0.8597 - accuracy: 0.7817\n",
            "Epoch 30/100\n",
            "484/484 [==============================] - 67s 138ms/step - loss: 0.8271 - accuracy: 0.7891\n",
            "Epoch 31/100\n",
            "484/484 [==============================] - 66s 137ms/step - loss: 0.8251 - accuracy: 0.7871\n",
            "Epoch 32/100\n",
            "484/484 [==============================] - 67s 138ms/step - loss: 0.7967 - accuracy: 0.7928\n",
            "Epoch 33/100\n",
            "484/484 [==============================] - 67s 139ms/step - loss: 0.7442 - accuracy: 0.8091\n",
            "Epoch 34/100\n",
            "484/484 [==============================] - 67s 138ms/step - loss: 0.7114 - accuracy: 0.8177\n",
            "Epoch 35/100\n",
            "484/484 [==============================] - 66s 137ms/step - loss: 0.7063 - accuracy: 0.8170\n",
            "Epoch 36/100\n",
            "484/484 [==============================] - 66s 136ms/step - loss: 0.7000 - accuracy: 0.8161\n",
            "Epoch 37/100\n",
            "484/484 [==============================] - 68s 140ms/step - loss: 0.6845 - accuracy: 0.8185\n",
            "Epoch 38/100\n",
            "484/484 [==============================] - 67s 139ms/step - loss: 0.6854 - accuracy: 0.8182\n",
            "Epoch 39/100\n",
            "484/484 [==============================] - 67s 138ms/step - loss: 0.6611 - accuracy: 0.8264\n",
            "Epoch 40/100\n",
            "484/484 [==============================] - 67s 138ms/step - loss: 0.6718 - accuracy: 0.8196\n",
            "Epoch 41/100\n",
            "484/484 [==============================] - 67s 138ms/step - loss: 0.6547 - accuracy: 0.8231\n",
            "Epoch 42/100\n",
            "484/484 [==============================] - 67s 138ms/step - loss: 0.6281 - accuracy: 0.8326\n",
            "Epoch 43/100\n",
            "484/484 [==============================] - 68s 140ms/step - loss: 0.6008 - accuracy: 0.8371\n",
            "Epoch 44/100\n",
            "484/484 [==============================] - 67s 138ms/step - loss: 0.6186 - accuracy: 0.8333\n",
            "Epoch 45/100\n",
            "484/484 [==============================] - 66s 137ms/step - loss: 0.6296 - accuracy: 0.8298\n",
            "Epoch 46/100\n",
            "484/484 [==============================] - 66s 137ms/step - loss: 0.6190 - accuracy: 0.8304\n",
            "Epoch 47/100\n",
            "484/484 [==============================] - 68s 140ms/step - loss: 0.6251 - accuracy: 0.8289\n",
            "Epoch 48/100\n",
            "484/484 [==============================] - 67s 138ms/step - loss: 0.6217 - accuracy: 0.8284\n",
            "Epoch 49/100\n",
            "484/484 [==============================] - 67s 137ms/step - loss: 0.5990 - accuracy: 0.8362\n",
            "Epoch 50/100\n",
            "484/484 [==============================] - 66s 137ms/step - loss: 0.5912 - accuracy: 0.8366\n",
            "Epoch 51/100\n",
            "484/484 [==============================] - 67s 138ms/step - loss: 0.5878 - accuracy: 0.8361\n",
            "Epoch 52/100\n",
            "484/484 [==============================] - 67s 139ms/step - loss: 0.5833 - accuracy: 0.8371\n",
            "Epoch 53/100\n",
            "484/484 [==============================] - 66s 137ms/step - loss: 0.5771 - accuracy: 0.8386\n",
            "Epoch 54/100\n",
            "484/484 [==============================] - 65s 134ms/step - loss: 0.5803 - accuracy: 0.8374\n",
            "Epoch 55/100\n",
            "484/484 [==============================] - 66s 136ms/step - loss: 0.5813 - accuracy: 0.8364\n",
            "Epoch 56/100\n",
            "484/484 [==============================] - 66s 136ms/step - loss: 0.5746 - accuracy: 0.8368\n",
            "Epoch 57/100\n",
            "484/484 [==============================] - 66s 136ms/step - loss: 0.5794 - accuracy: 0.8370\n",
            "Epoch 58/100\n",
            "484/484 [==============================] - 67s 138ms/step - loss: 0.5690 - accuracy: 0.8373\n",
            "Epoch 59/100\n",
            "484/484 [==============================] - 67s 138ms/step - loss: 0.5801 - accuracy: 0.8354\n",
            "Epoch 60/100\n",
            "484/484 [==============================] - 66s 137ms/step - loss: 0.5742 - accuracy: 0.8374\n",
            "Epoch 61/100\n",
            "484/484 [==============================] - 68s 140ms/step - loss: 0.5660 - accuracy: 0.8377\n",
            "Epoch 62/100\n",
            "484/484 [==============================] - 67s 138ms/step - loss: 0.5465 - accuracy: 0.8423\n",
            "Epoch 63/100\n",
            "484/484 [==============================] - 67s 139ms/step - loss: 0.5381 - accuracy: 0.8462\n",
            "Epoch 64/100\n",
            "484/484 [==============================] - 67s 138ms/step - loss: 0.5434 - accuracy: 0.8435\n",
            "Epoch 65/100\n",
            "484/484 [==============================] - 68s 140ms/step - loss: 0.5592 - accuracy: 0.8395\n",
            "Epoch 66/100\n",
            "484/484 [==============================] - 67s 138ms/step - loss: 0.5794 - accuracy: 0.8340\n",
            "Epoch 67/100\n",
            "484/484 [==============================] - 70s 144ms/step - loss: 0.5631 - accuracy: 0.8337\n",
            "Epoch 68/100\n",
            "484/484 [==============================] - 69s 142ms/step - loss: 0.5438 - accuracy: 0.8426\n",
            "Epoch 69/100\n",
            "484/484 [==============================] - 67s 138ms/step - loss: 0.5349 - accuracy: 0.8435\n",
            "Epoch 70/100\n",
            "484/484 [==============================] - 69s 143ms/step - loss: 0.5322 - accuracy: 0.8431\n",
            "Epoch 71/100\n",
            "484/484 [==============================] - 67s 138ms/step - loss: 0.5367 - accuracy: 0.8418\n",
            "Epoch 72/100\n",
            "484/484 [==============================] - 67s 139ms/step - loss: 0.5464 - accuracy: 0.8404\n",
            "Epoch 73/100\n",
            "484/484 [==============================] - 68s 140ms/step - loss: 0.5578 - accuracy: 0.8383\n",
            "Epoch 74/100\n",
            "484/484 [==============================] - 68s 141ms/step - loss: 0.5438 - accuracy: 0.8408\n",
            "Epoch 75/100\n",
            "484/484 [==============================] - 67s 139ms/step - loss: 0.5360 - accuracy: 0.8417\n",
            "Epoch 76/100\n",
            "484/484 [==============================] - 67s 138ms/step - loss: 0.5258 - accuracy: 0.8445\n",
            "Epoch 77/100\n",
            "484/484 [==============================] - 66s 137ms/step - loss: 0.5363 - accuracy: 0.8423\n",
            "Epoch 78/100\n",
            "484/484 [==============================] - 68s 140ms/step - loss: 0.5278 - accuracy: 0.8428\n",
            "Epoch 79/100\n",
            "484/484 [==============================] - 68s 140ms/step - loss: 0.5343 - accuracy: 0.8411\n",
            "Epoch 80/100\n",
            "484/484 [==============================] - 68s 140ms/step - loss: 0.5343 - accuracy: 0.8413\n",
            "Epoch 81/100\n",
            "484/484 [==============================] - 67s 138ms/step - loss: 0.5406 - accuracy: 0.8388\n",
            "Epoch 82/100\n",
            "484/484 [==============================] - 67s 138ms/step - loss: 0.5225 - accuracy: 0.8433\n",
            "Epoch 83/100\n",
            "484/484 [==============================] - 67s 138ms/step - loss: 0.5329 - accuracy: 0.8414\n",
            "Epoch 84/100\n",
            "484/484 [==============================] - 66s 136ms/step - loss: 0.5259 - accuracy: 0.8430\n",
            "Epoch 85/100\n",
            "484/484 [==============================] - 66s 137ms/step - loss: 0.5216 - accuracy: 0.8437\n",
            "Epoch 86/100\n",
            "484/484 [==============================] - 66s 137ms/step - loss: 0.5237 - accuracy: 0.8428\n",
            "Epoch 87/100\n",
            "484/484 [==============================] - 66s 137ms/step - loss: 0.5269 - accuracy: 0.8417\n",
            "Epoch 88/100\n",
            "484/484 [==============================] - 68s 140ms/step - loss: 0.5225 - accuracy: 0.8424\n",
            "Epoch 89/100\n",
            "484/484 [==============================] - 67s 138ms/step - loss: 0.5100 - accuracy: 0.8463\n",
            "Epoch 90/100\n",
            "484/484 [==============================] - 67s 139ms/step - loss: 0.5081 - accuracy: 0.8478\n",
            "Epoch 91/100\n",
            "484/484 [==============================] - 67s 139ms/step - loss: 0.5147 - accuracy: 0.8452\n",
            "Epoch 92/100\n",
            "484/484 [==============================] - 68s 141ms/step - loss: 0.5275 - accuracy: 0.8426\n",
            "Epoch 93/100\n",
            "484/484 [==============================] - 68s 139ms/step - loss: 0.5307 - accuracy: 0.8404\n",
            "Epoch 94/100\n",
            "484/484 [==============================] - 67s 139ms/step - loss: 0.5256 - accuracy: 0.8421\n",
            "Epoch 95/100\n",
            "484/484 [==============================] - 67s 139ms/step - loss: 0.5134 - accuracy: 0.8439\n",
            "Epoch 96/100\n",
            "484/484 [==============================] - 68s 140ms/step - loss: 0.5147 - accuracy: 0.8467\n",
            "Epoch 97/100\n",
            "484/484 [==============================] - 67s 138ms/step - loss: 0.5193 - accuracy: 0.8439\n",
            "Epoch 98/100\n",
            "484/484 [==============================] - 67s 138ms/step - loss: 0.5121 - accuracy: 0.8448\n",
            "Epoch 99/100\n",
            "484/484 [==============================] - 66s 137ms/step - loss: 0.5103 - accuracy: 0.8450\n",
            "Epoch 100/100\n",
            "484/484 [==============================] - 66s 136ms/step - loss: 0.5099 - accuracy: 0.8472\n"
          ]
        }
      ],
      "source": [
        " history = model.fit(predictors, label, epochs=100, verbose=1) #change the number of epochs after observing the plots later on at the point where the accuracy saturates"
      ]
    },
    {
      "cell_type": "code",
      "execution_count": null,
      "metadata": {
        "id": "HMq2MUuohVAw",
        "colab": {
          "base_uri": "https://localhost:8080/",
          "height": 545
        },
        "outputId": "d37fc3fe-8968-4ad9-8b76-e792d8f3a4f6"
      },
      "outputs": [
        {
          "output_type": "display_data",
          "data": {
            "text/plain": [
              "<Figure size 432x288 with 1 Axes>"
            ],
            "image/png": "[encoded data removed]"
          },
          "metadata": {
            "needs_background": "light"
          }
        },
        {
          "output_type": "display_data",
          "data": {
            "text/plain": [
              "<Figure size 432x288 with 1 Axes>"
            ],
            "image/png": "[encoded data removed]"
          },
          "metadata": {
            "needs_background": "light"
          }
        }
      ],
      "source": [
        "import matplotlib.pyplot as plt\n",
        "acc = history.history['accuracy']\n",
        "loss = history.history['loss']\n",
        "\n",
        "epochs = range(len(acc))\n",
        "\n",
        "plt.plot(epochs, acc, 'b', label='Training accuracy')\n",
        "plt.title('Training accuracy')\n",
        "\n",
        "plt.figure()\n",
        "\n",
        "plt.plot(epochs, loss, 'b', label='Training Loss')\n",
        "plt.title('Training loss')\n",
        "plt.legend()\n",
        "\n",
        "plt.show()"
      ]
    },
    {
      "cell_type": "code",
      "execution_count": null,
      "metadata": {
        "id": "j5Q2VQek4ebV",
        "colab": {
          "base_uri": "https://localhost:8080/"
        },
        "outputId": "6aa26af6-6c26-4d33-a9cf-e1ed9f80f799"
      },
      "outputs": [
        {
          "output_type": "stream",
          "name": "stdout",
          "text": [
            "Help me Obi Wan Kenobi, you're my only hope my love's brand new fired young be seen doubt in every deeds light sweet leaves survey survey dyed bevel seen doubt seen woe woe woe woe woe woe woe woe or woe woe or woe woe or hammer'd woe woe or hammer'd erred hammer'd brow their glory back life of thine eye untrue in lease in thy sight brow young be seen chase thee women's pleasure remain behold life alone dead life repair seen life your name new ' made strange near a curse the view for his growth ' taken fire now lie with thee of thee of thine eyes remain true prove thee dead woe untrue be hence o'er chary wrought thee back so chary remain so deem'd\n"
          ]
        }
      ],
      "source": [
        "seed_text = \"Help me Obi Wan Kenobi, you're my only hope\"\n",
        "next_words =120 #Play with this quantity to change the number of words you want to see in the output after the seed_text\n",
        "\n",
        "for _ in range(next_words):\n",
        "  token_list = tokenizer.texts_to_sequences([seed_text])[0]\n",
        "  token_list = pad_sequences([token_list], maxlen=max_sequence_len-1, padding='pre')\n",
        "  predict_x = model.predict(token_list)\n",
        "  classes_x = np.argmax(predict_x, axis=1)\n",
        "  output_word = \"\"\n",
        "  for word, index in tokenizer.word_index.items():\n",
        "    if index == classes_x:\n",
        "      output_word = word\n",
        "      break\n",
        "  seed_text += \" \" + output_word\n",
        "print(seed_text)"
      ]
    }
  ],
  "metadata": {
    "colab": {
      "name": "A2_NLP.ipynb",
      "provenance": []
    },
    "kernelspec": {
      "display_name": "Python 3",
      "name": "python3"
    },
    "language_info": {
      "name": "python"
    }
  },
  "nbformat": 4,
  "nbformat_minor": 0
}